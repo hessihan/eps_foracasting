{
 "cells": [
  {
   "cell_type": "code",
   "execution_count": 1,
   "metadata": {},
   "outputs": [],
   "source": [
    "import numpy as np\n",
    "import pandas as pd\n",
    "import matplotlib.pyplot as plt\n",
    "from IPython.display import Latex"
   ]
  },
  {
   "cell_type": "code",
   "execution_count": 2,
   "metadata": {},
   "outputs": [
    {
     "name": "stdout",
     "output_type": "stream",
     "text": [
      "\\begin{tabular}{lrlr}\n",
      "\\toprule\n",
      "{} &  業種コード &       業種名 &  企業数 \\\\\n",
      "\\midrule\n",
      "0  &   3650 &      電気機器 &  116 \\\\\n",
      "1  &   6050 &       卸売業 &  105 \\\\\n",
      "2  &   3200 &        化学 &   97 \\\\\n",
      "3  &   3600 &        機械 &   96 \\\\\n",
      "4  &   5250 &    情報・通信業 &   75 \\\\\n",
      "5  &   2050 &       建設業 &   74 \\\\\n",
      "6  &   9050 &     サービス業 &   61 \\\\\n",
      "7  &   6100 &       小売業 &   60 \\\\\n",
      "8  &   3700 &     輸送用機器 &   49 \\\\\n",
      "9  &   3050 &       食料品 &   46 \\\\\n",
      "10 &   5050 &       陸運業 &   35 \\\\\n",
      "11 &   3800 &     その他製品 &   31 \\\\\n",
      "12 &   3450 &        鉄鋼 &   29 \\\\\n",
      "13 &   3400 &  ガラス・土石製品 &   25 \\\\\n",
      "14 &   3550 &      金属製品 &   25 \\\\\n",
      "15 &   3100 &      繊維製品 &   24 \\\\\n",
      "16 &   3250 &       医薬品 &   24 \\\\\n",
      "17 &   8050 &      不動産業 &   22 \\\\\n",
      "18 &   3750 &      精密機器 &   21 \\\\\n",
      "19 &   3500 &      非鉄金属 &   18 \\\\\n",
      "20 &   5200 &  倉庫・運輸関連業 &   13 \\\\\n",
      "21 &   3150 &     パルプ・紙 &    9 \\\\\n",
      "22 &   3350 &      ゴム製品 &    7 \\\\\n",
      "23 &   5100 &       海運業 &    7 \\\\\n",
      "24 &   4050 &    電気・ガス業 &    7 \\\\\n",
      "25 &   3300 &   石油・石炭製品 &    5 \\\\\n",
      "26 &     50 &    水産・農林業 &    3 \\\\\n",
      "27 &   1050 &        鉱業 &    3 \\\\\n",
      "28 &   5150 &       空運業 &    2 \\\\\n",
      "\\bottomrule\n",
      "\\end{tabular}\n",
      "\n"
     ]
    }
   ],
   "source": [
    "ind_cat = pd.read_csv(\"ind_cat_table.csv\", index_col=0)\n",
    "print(ind_cat.to_latex())"
   ]
  },
  {
   "cell_type": "code",
   "execution_count": 6,
   "metadata": {},
   "outputs": [
    {
     "data": {
      "text/plain": [
       "'1.3.2'"
      ]
     },
     "execution_count": 6,
     "metadata": {},
     "output_type": "execute_result"
    }
   ],
   "source": []
  },
  {
   "cell_type": "code",
   "execution_count": null,
   "metadata": {},
   "outputs": [],
   "source": []
  }
 ],
 "metadata": {
  "interpreter": {
   "hash": "767d51c1340bd893661ea55ea3124f6de3c7a262a8b4abca0554b478b1e2ff90"
  },
  "kernelspec": {
   "display_name": "Python 3.8.10 64-bit",
   "name": "python3"
  },
  "language_info": {
   "codemirror_mode": {
    "name": "ipython",
    "version": 3
   },
   "file_extension": ".py",
   "mimetype": "text/x-python",
   "name": "python",
   "nbconvert_exporter": "python",
   "pygments_lexer": "ipython3",
   "version": "3.8.10"
  },
  "orig_nbformat": 4
 },
 "nbformat": 4,
 "nbformat_minor": 2
}
