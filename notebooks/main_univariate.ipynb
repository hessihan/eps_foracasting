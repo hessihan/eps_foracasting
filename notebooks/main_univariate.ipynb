{
 "cells": [
  {
   "cell_type": "markdown",
   "metadata": {},
   "source": [
    "Showing the main code's outputs with jupyter notebook. (Univariate)"
   ]
  },
  {
   "cell_type": "markdown",
   "metadata": {},
   "source": [
    "## Data Preparation"
   ]
  },
  {
   "cell_type": "code",
   "execution_count": 1,
   "metadata": {},
   "outputs": [],
   "source": [
    "# Forecasting TOYOTA's Earnings\n",
    "\n",
    "# importing external packages\n",
    "import sys\n",
    "import os\n",
    "import datetime\n",
    "import numpy as np\n",
    "import pandas as pd\n",
    "import torch\n",
    "import statsmodels.api as sm\n",
    "import matplotlib.pyplot as plt\n",
    "from matplotlib.dates import DateFormatter\n",
    "import warnings\n",
    "\n",
    "warnings.simplefilter(\"ignore\")\n",
    "\n",
    "# importing internal modules\n",
    "sys.path.insert(1, '../')\n",
    "\n",
    "from src.models.sarima_univariate import rolling_window\n",
    "from src.models.nn import MLP\n",
    "from src.utils.accuracy import *"
   ]
  },
  {
   "cell_type": "code",
   "execution_count": 2,
   "metadata": {},
   "outputs": [
    {
     "data": {
      "text/html": [
       "<div>\n",
       "<style scoped>\n",
       "    .dataframe tbody tr th:only-of-type {\n",
       "        vertical-align: middle;\n",
       "    }\n",
       "\n",
       "    .dataframe tbody tr th {\n",
       "        vertical-align: top;\n",
       "    }\n",
       "\n",
       "    .dataframe thead th {\n",
       "        text-align: right;\n",
       "    }\n",
       "</style>\n",
       "<table border=\"1\" class=\"dataframe\">\n",
       "  <thead>\n",
       "    <tr style=\"text-align: right;\">\n",
       "      <th></th>\n",
       "      <th>決算期</th>\n",
       "      <th>決算発表日</th>\n",
       "      <th>決算月数</th>\n",
       "      <th>売上高・営業収益</th>\n",
       "      <th>売上総利益</th>\n",
       "      <th>営業利益</th>\n",
       "      <th>経常利益／税金等調整前当期純利益</th>\n",
       "      <th>当期純利益（連結）</th>\n",
       "      <th>１株当たり利益</th>\n",
       "      <th>販売費及び一般管理費</th>\n",
       "      <th>棚卸資産</th>\n",
       "      <th>資本的支出</th>\n",
       "      <th>期末従業員数</th>\n",
       "      <th>受取手形・売掛金／売掛金及びその他の短期債権</th>\n",
       "    </tr>\n",
       "  </thead>\n",
       "  <tbody>\n",
       "    <tr>\n",
       "      <th>0</th>\n",
       "      <td>2002-06-01</td>\n",
       "      <td>2002-08-07</td>\n",
       "      <td>3.0</td>\n",
       "      <td>4021134.0</td>\n",
       "      <td>980461.0</td>\n",
       "      <td>394518.0</td>\n",
       "      <td>449936.0</td>\n",
       "      <td>NaN</td>\n",
       "      <td>100.80</td>\n",
       "      <td>585942.0</td>\n",
       "      <td>960431.0</td>\n",
       "      <td>1178647.5</td>\n",
       "      <td>247128.428571</td>\n",
       "      <td>1292182.0</td>\n",
       "    </tr>\n",
       "    <tr>\n",
       "      <th>1</th>\n",
       "      <td>2002-09-01</td>\n",
       "      <td>2002-12-26</td>\n",
       "      <td>6.0</td>\n",
       "      <td>3592288.0</td>\n",
       "      <td>840121.0</td>\n",
       "      <td>290505.0</td>\n",
       "      <td>264525.0</td>\n",
       "      <td>NaN</td>\n",
       "      <td>17.64</td>\n",
       "      <td>549617.0</td>\n",
       "      <td>927040.0</td>\n",
       "      <td>808702.0</td>\n",
       "      <td>250809.142857</td>\n",
       "      <td>1245733.0</td>\n",
       "    </tr>\n",
       "    <tr>\n",
       "      <th>2</th>\n",
       "      <td>2002-12-01</td>\n",
       "      <td>2003-02-05</td>\n",
       "      <td>9.0</td>\n",
       "      <td>4460037.0</td>\n",
       "      <td>1016004.0</td>\n",
       "      <td>425241.0</td>\n",
       "      <td>449835.0</td>\n",
       "      <td>NaN</td>\n",
       "      <td>103.23</td>\n",
       "      <td>636567.0</td>\n",
       "      <td>1042173.0</td>\n",
       "      <td>1209465.5</td>\n",
       "      <td>254489.857143</td>\n",
       "      <td>1339274.0</td>\n",
       "    </tr>\n",
       "    <tr>\n",
       "      <th>3</th>\n",
       "      <td>2003-03-01</td>\n",
       "      <td>2003-07-31</td>\n",
       "      <td>12.0</td>\n",
       "      <td>3428094.0</td>\n",
       "      <td>750722.0</td>\n",
       "      <td>161382.0</td>\n",
       "      <td>62356.0</td>\n",
       "      <td>NaN</td>\n",
       "      <td>-10.35</td>\n",
       "      <td>543536.0</td>\n",
       "      <td>1025838.0</td>\n",
       "      <td>1610229.0</td>\n",
       "      <td>258170.571429</td>\n",
       "      <td>1475797.0</td>\n",
       "    </tr>\n",
       "    <tr>\n",
       "      <th>4</th>\n",
       "      <td>2003-06-01</td>\n",
       "      <td>2003-08-05</td>\n",
       "      <td>3.0</td>\n",
       "      <td>4092939.0</td>\n",
       "      <td>953636.0</td>\n",
       "      <td>340772.0</td>\n",
       "      <td>371279.0</td>\n",
       "      <td>NaN</td>\n",
       "      <td>64.83</td>\n",
       "      <td>612864.0</td>\n",
       "      <td>1054208.0</td>\n",
       "      <td>1177102.5</td>\n",
       "      <td>261851.285714</td>\n",
       "      <td>1335846.0</td>\n",
       "    </tr>\n",
       "  </tbody>\n",
       "</table>\n",
       "</div>"
      ],
      "text/plain": [
       "          決算期       決算発表日  決算月数   売上高・営業収益      売上総利益      営業利益  \\\n",
       "0  2002-06-01  2002-08-07   3.0  4021134.0   980461.0  394518.0   \n",
       "1  2002-09-01  2002-12-26   6.0  3592288.0   840121.0  290505.0   \n",
       "2  2002-12-01  2003-02-05   9.0  4460037.0  1016004.0  425241.0   \n",
       "3  2003-03-01  2003-07-31  12.0  3428094.0   750722.0  161382.0   \n",
       "4  2003-06-01  2003-08-05   3.0  4092939.0   953636.0  340772.0   \n",
       "\n",
       "   経常利益／税金等調整前当期純利益  当期純利益（連結）  １株当たり利益  販売費及び一般管理費       棚卸資産      資本的支出  \\\n",
       "0          449936.0        NaN   100.80    585942.0   960431.0  1178647.5   \n",
       "1          264525.0        NaN    17.64    549617.0   927040.0   808702.0   \n",
       "2          449835.0        NaN   103.23    636567.0  1042173.0  1209465.5   \n",
       "3           62356.0        NaN   -10.35    543536.0  1025838.0  1610229.0   \n",
       "4          371279.0        NaN    64.83    612864.0  1054208.0  1177102.5   \n",
       "\n",
       "          期末従業員数  受取手形・売掛金／売掛金及びその他の短期債権  \n",
       "0  247128.428571               1292182.0  \n",
       "1  250809.142857               1245733.0  \n",
       "2  254489.857143               1339274.0  \n",
       "3  258170.571429               1475797.0  \n",
       "4  261851.285714               1335846.0  "
      ]
     },
     "execution_count": 2,
     "metadata": {},
     "output_type": "execute_result"
    }
   ],
   "source": [
    "# run data_preprocessing.py file to generate data\n",
    "os.system(\"python data_preprocessing.py\")\n",
    "\n",
    "# read cleaned data generated from data_preprocessing.py\n",
    "data_path = \"../data/processed/dataset.csv\"\n",
    "ts = pd.read_csv(data_path, index_col=0)\n",
    "\n",
    "ts.head()"
   ]
  },
  {
   "cell_type": "code",
   "execution_count": 3,
   "metadata": {},
   "outputs": [
    {
     "data": {
      "text/html": [
       "<div>\n",
       "<style scoped>\n",
       "    .dataframe tbody tr th:only-of-type {\n",
       "        vertical-align: middle;\n",
       "    }\n",
       "\n",
       "    .dataframe tbody tr th {\n",
       "        vertical-align: top;\n",
       "    }\n",
       "\n",
       "    .dataframe thead th {\n",
       "        text-align: right;\n",
       "    }\n",
       "</style>\n",
       "<table border=\"1\" class=\"dataframe\">\n",
       "  <thead>\n",
       "    <tr style=\"text-align: right;\">\n",
       "      <th></th>\n",
       "      <th>決算月数</th>\n",
       "      <th>売上高・営業収益</th>\n",
       "      <th>売上総利益</th>\n",
       "      <th>営業利益</th>\n",
       "      <th>経常利益／税金等調整前当期純利益</th>\n",
       "      <th>当期純利益（連結）</th>\n",
       "      <th>１株当たり利益</th>\n",
       "      <th>販売費及び一般管理費</th>\n",
       "      <th>棚卸資産</th>\n",
       "      <th>資本的支出</th>\n",
       "      <th>期末従業員数</th>\n",
       "      <th>受取手形・売掛金／売掛金及びその他の短期債権</th>\n",
       "    </tr>\n",
       "  </thead>\n",
       "  <tbody>\n",
       "    <tr>\n",
       "      <th>count</th>\n",
       "      <td>72.00000</td>\n",
       "      <td>7.200000e+01</td>\n",
       "      <td>7.200000e+01</td>\n",
       "      <td>72.000000</td>\n",
       "      <td>72.000000</td>\n",
       "      <td>40.000000</td>\n",
       "      <td>72.000000</td>\n",
       "      <td>72.000000</td>\n",
       "      <td>7.200000e+01</td>\n",
       "      <td>7.200000e+01</td>\n",
       "      <td>72.000000</td>\n",
       "      <td>7.200000e+01</td>\n",
       "    </tr>\n",
       "    <tr>\n",
       "      <th>mean</th>\n",
       "      <td>7.50000</td>\n",
       "      <td>5.836196e+06</td>\n",
       "      <td>1.234343e+06</td>\n",
       "      <td>417093.291667</td>\n",
       "      <td>441065.194444</td>\n",
       "      <td>432300.975000</td>\n",
       "      <td>106.586667</td>\n",
       "      <td>640030.277778</td>\n",
       "      <td>1.778624e+06</td>\n",
       "      <td>1.789671e+06</td>\n",
       "      <td>321806.469246</td>\n",
       "      <td>1.775406e+06</td>\n",
       "    </tr>\n",
       "    <tr>\n",
       "      <th>std</th>\n",
       "      <td>3.37764</td>\n",
       "      <td>1.254573e+06</td>\n",
       "      <td>4.020260e+05</td>\n",
       "      <td>272623.620006</td>\n",
       "      <td>308570.634446</td>\n",
       "      <td>240375.202714</td>\n",
       "      <td>83.872018</td>\n",
       "      <td>161500.685891</td>\n",
       "      <td>4.834236e+05</td>\n",
       "      <td>9.748059e+05</td>\n",
       "      <td>36826.237848</td>\n",
       "      <td>2.919907e+05</td>\n",
       "    </tr>\n",
       "    <tr>\n",
       "      <th>min</th>\n",
       "      <td>3.00000</td>\n",
       "      <td>3.428094e+06</td>\n",
       "      <td>1.267540e+05</td>\n",
       "      <td>-682528.000000</td>\n",
       "      <td>-914729.000000</td>\n",
       "      <td>2859.000000</td>\n",
       "      <td>-243.790000</td>\n",
       "      <td>-161682.000000</td>\n",
       "      <td>9.270400e+05</td>\n",
       "      <td>3.699280e+05</td>\n",
       "      <td>247128.428571</td>\n",
       "      <td>1.245733e+06</td>\n",
       "    </tr>\n",
       "    <tr>\n",
       "      <th>25%</th>\n",
       "      <td>5.25000</td>\n",
       "      <td>4.773247e+06</td>\n",
       "      <td>9.443628e+05</td>\n",
       "      <td>328081.500000</td>\n",
       "      <td>256171.500000</td>\n",
       "      <td>208711.500000</td>\n",
       "      <td>57.770000</td>\n",
       "      <td>548096.750000</td>\n",
       "      <td>1.415543e+06</td>\n",
       "      <td>1.037258e+06</td>\n",
       "      <td>297267.750000</td>\n",
       "      <td>1.500211e+06</td>\n",
       "    </tr>\n",
       "    <tr>\n",
       "      <th>50%</th>\n",
       "      <td>7.50000</td>\n",
       "      <td>5.906180e+06</td>\n",
       "      <td>1.269906e+06</td>\n",
       "      <td>443770.500000</td>\n",
       "      <td>461741.500000</td>\n",
       "      <td>482949.500000</td>\n",
       "      <td>103.970000</td>\n",
       "      <td>646305.000000</td>\n",
       "      <td>1.812280e+06</td>\n",
       "      <td>1.576169e+06</td>\n",
       "      <td>323936.000000</td>\n",
       "      <td>1.807128e+06</td>\n",
       "    </tr>\n",
       "    <tr>\n",
       "      <th>75%</th>\n",
       "      <td>9.75000</td>\n",
       "      <td>7.002638e+06</td>\n",
       "      <td>1.577830e+06</td>\n",
       "      <td>600771.250000</td>\n",
       "      <td>643152.500000</td>\n",
       "      <td>614472.250000</td>\n",
       "      <td>160.855000</td>\n",
       "      <td>731498.500000</td>\n",
       "      <td>2.111988e+06</td>\n",
       "      <td>2.271390e+06</td>\n",
       "      <td>349225.250000</td>\n",
       "      <td>2.003336e+06</td>\n",
       "    </tr>\n",
       "    <tr>\n",
       "      <th>max</th>\n",
       "      <td>12.00000</td>\n",
       "      <td>7.801542e+06</td>\n",
       "      <td>2.004790e+06</td>\n",
       "      <td>827404.000000</td>\n",
       "      <td>893960.000000</td>\n",
       "      <td>970686.000000</td>\n",
       "      <td>318.400000</td>\n",
       "      <td>942763.000000</td>\n",
       "      <td>2.656396e+06</td>\n",
       "      <td>5.121960e+06</td>\n",
       "      <td>379201.000000</td>\n",
       "      <td>2.389104e+06</td>\n",
       "    </tr>\n",
       "  </tbody>\n",
       "</table>\n",
       "</div>"
      ],
      "text/plain": [
       "           決算月数      売上高・営業収益         売上総利益           営業利益  経常利益／税金等調整前当期純利益  \\\n",
       "count  72.00000  7.200000e+01  7.200000e+01      72.000000         72.000000   \n",
       "mean    7.50000  5.836196e+06  1.234343e+06  417093.291667     441065.194444   \n",
       "std     3.37764  1.254573e+06  4.020260e+05  272623.620006     308570.634446   \n",
       "min     3.00000  3.428094e+06  1.267540e+05 -682528.000000    -914729.000000   \n",
       "25%     5.25000  4.773247e+06  9.443628e+05  328081.500000     256171.500000   \n",
       "50%     7.50000  5.906180e+06  1.269906e+06  443770.500000     461741.500000   \n",
       "75%     9.75000  7.002638e+06  1.577830e+06  600771.250000     643152.500000   \n",
       "max    12.00000  7.801542e+06  2.004790e+06  827404.000000     893960.000000   \n",
       "\n",
       "           当期純利益（連結）     １株当たり利益     販売費及び一般管理費          棚卸資産         資本的支出  \\\n",
       "count      40.000000   72.000000      72.000000  7.200000e+01  7.200000e+01   \n",
       "mean   432300.975000  106.586667  640030.277778  1.778624e+06  1.789671e+06   \n",
       "std    240375.202714   83.872018  161500.685891  4.834236e+05  9.748059e+05   \n",
       "min      2859.000000 -243.790000 -161682.000000  9.270400e+05  3.699280e+05   \n",
       "25%    208711.500000   57.770000  548096.750000  1.415543e+06  1.037258e+06   \n",
       "50%    482949.500000  103.970000  646305.000000  1.812280e+06  1.576169e+06   \n",
       "75%    614472.250000  160.855000  731498.500000  2.111988e+06  2.271390e+06   \n",
       "max    970686.000000  318.400000  942763.000000  2.656396e+06  5.121960e+06   \n",
       "\n",
       "              期末従業員数  受取手形・売掛金／売掛金及びその他の短期債権  \n",
       "count      72.000000            7.200000e+01  \n",
       "mean   321806.469246            1.775406e+06  \n",
       "std     36826.237848            2.919907e+05  \n",
       "min    247128.428571            1.245733e+06  \n",
       "25%    297267.750000            1.500211e+06  \n",
       "50%    323936.000000            1.807128e+06  \n",
       "75%    349225.250000            2.003336e+06  \n",
       "max    379201.000000            2.389104e+06  "
      ]
     },
     "execution_count": 3,
     "metadata": {},
     "output_type": "execute_result"
    }
   ],
   "source": [
    "ts.describe()"
   ]
  },
  {
   "cell_type": "code",
   "execution_count": 4,
   "metadata": {},
   "outputs": [],
   "source": [
    "# y\n",
    "var_name = \"１株当たり利益\"\n",
    "\n",
    "y = ts[var_name]\n",
    "\n",
    "# train test split (4/5) : (1/5), yearly bases\n",
    "test_size = (len(y) // 5) + (len(y) // 5) % 4\n",
    "train_size = len(y) -test_size\n",
    "y_train = y[:-test_size]\n",
    "y_test = y[-test_size:]"
   ]
  },
  {
   "cell_type": "code",
   "execution_count": 5,
   "metadata": {},
   "outputs": [
    {
     "data": {
      "image/png": "[encoded data removed]",
      "text/plain": [
       "<Figure size 2304x648 with 1 Axes>"
      ]
     },
     "metadata": {
      "needs_background": "light"
     },
     "output_type": "display_data"
    }
   ],
   "source": [
    "# plot\n",
    "fig = plt.figure(figsize=(16*2, 9))\n",
    "ax = fig.add_subplot(111)\n",
    "\n",
    "ax.plot(ts[\"決算期\"], [0] * len(ts[\"決算期\"]), color=\"gray\", linestyle=\"--\")\n",
    "#ax.plot(ts[\"決算期\"], y, marker=\"o\", label=\"record\")\n",
    "ax.plot(ts[\"決算期\"][:-test_size], y_train, marker=\"o\", label=\"train\")\n",
    "ax.plot(ts[\"決算期\"][-test_size:], y_test, marker=\"o\", label=\"test\")\n",
    "\n",
    "ax.tick_params(axis=\"x\", rotation=90)\n",
    "ax.legend()\n",
    "plt.show()"
   ]
  },
  {
   "cell_type": "markdown",
   "metadata": {},
   "source": [
    "## Model Estimation"
   ]
  },
  {
   "cell_type": "markdown",
   "metadata": {},
   "source": [
    "### Random walk"
   ]
  },
  {
   "cell_type": "code",
   "execution_count": 6,
   "metadata": {},
   "outputs": [
    {
     "data": {
      "text/plain": [
       "56    139.92\n",
       "57    181.12\n",
       "58    129.96\n",
       "59    161.23\n",
       "60    133.16\n",
       "61    205.05\n",
       "62    154.50\n",
       "63    318.40\n",
       "64    164.05\n",
       "65    224.67\n",
       "66    202.35\n",
       "67     62.80\n",
       "68    160.73\n",
       "69    218.62\n",
       "70    189.28\n",
       "71    304.56\n",
       "Name: １株当たり利益, dtype: float64"
      ]
     },
     "execution_count": 6,
     "metadata": {},
     "output_type": "execute_result"
    }
   ],
   "source": [
    "# random walk\n",
    "y_hat_rw = y.shift(1)[-test_size:]\n",
    "y_hat_rw"
   ]
  },
  {
   "cell_type": "markdown",
   "metadata": {},
   "source": [
    "### SARIMA: Brown & Rozeff\n",
    "$ (p, d, q) \\times (P, D, Q)_S = (1, 0, 0) \\times (0, 1, 1)_4 $"
   ]
  },
  {
   "cell_type": "code",
   "execution_count": 7,
   "metadata": {},
   "outputs": [
    {
     "data": {
      "text/plain": [
       "56    168.914835\n",
       "57    150.406376\n",
       "58    124.326164\n",
       "59    129.916281\n",
       "60    137.030421\n",
       "61    138.992681\n",
       "62    146.053754\n",
       "63    225.987982\n",
       "64    178.259869\n",
       "65    192.204979\n",
       "66    186.298340\n",
       "67    108.091089\n",
       "68    140.578074\n",
       "69    122.198341\n",
       "70    140.828753\n",
       "71    148.226916\n",
       "dtype: float64"
      ]
     },
     "execution_count": 7,
     "metadata": {},
     "output_type": "execute_result"
    }
   ],
   "source": [
    "# SARIMA: Brown & Rozeff\n",
    "y_hat_sarima_br = rolling_window(\n",
    "    window = train_size,\n",
    "    prim_train=y_train,\n",
    "    test=y_test,\n",
    "    order=(1, 0, 0),\n",
    "    seasonal_order=(0, 1, 1, 4),\n",
    "    silent=True\n",
    ")\n",
    "y_hat_sarima_br"
   ]
  },
  {
   "cell_type": "markdown",
   "metadata": {},
   "source": [
    "### SARIMA: Griffin\n",
    "$ (p, d, q) \\times (P, D, Q)_S = (0, 1, 1) \\times (0, 1, 1)_4 $"
   ]
  },
  {
   "cell_type": "code",
   "execution_count": 8,
   "metadata": {},
   "outputs": [
    {
     "data": {
      "text/plain": [
       "56    188.633585\n",
       "57    174.999444\n",
       "58    151.919157\n",
       "59    165.634456\n",
       "60    181.190423\n",
       "61    197.892464\n",
       "62    177.373079\n",
       "63    329.341877\n",
       "64    254.139553\n",
       "65    243.246725\n",
       "66    242.172804\n",
       "67     96.255873\n",
       "68    200.954300\n",
       "69    204.468707\n",
       "70    222.991161\n",
       "71    322.657621\n",
       "dtype: float64"
      ]
     },
     "execution_count": 8,
     "metadata": {},
     "output_type": "execute_result"
    }
   ],
   "source": [
    "# SARIMA: Griffin\n",
    "y_hat_sarima_g = rolling_window(\n",
    "    window = train_size,\n",
    "    prim_train=y_train,\n",
    "    test=y_test,\n",
    "    order=(0, 1, 1),\n",
    "    seasonal_order=(0, 1, 1, 4),\n",
    "    silent=True\n",
    ")\n",
    "y_hat_sarima_g"
   ]
  },
  {
   "cell_type": "markdown",
   "metadata": {},
   "source": [
    "### SARIMA: Foster\n",
    "$ (p, d, q) \\times (P, D, Q)_S = (1, 0, 0) \\times (0, 1, 0)_4 $"
   ]
  },
  {
   "cell_type": "code",
   "execution_count": 9,
   "metadata": {},
   "outputs": [
    {
     "data": {
      "text/plain": [
       "56    204.072833\n",
       "57    192.460582\n",
       "58    164.029506\n",
       "59    153.934639\n",
       "60    175.742317\n",
       "61    173.905227\n",
       "62    213.726573\n",
       "63    358.088167\n",
       "64    229.028899\n",
       "65    328.227763\n",
       "66    240.275692\n",
       "67     21.939324\n",
       "68    222.800642\n",
       "69     61.032536\n",
       "70    216.625833\n",
       "71    322.612352\n",
       "dtype: float64"
      ]
     },
     "execution_count": 9,
     "metadata": {},
     "output_type": "execute_result"
    }
   ],
   "source": [
    "# SARIMA: Foster\n",
    "y_hat_sarima_f = rolling_window(\n",
    "    window = train_size,\n",
    "    prim_train=y_train,\n",
    "    test=y_test,\n",
    "    order=(1, 0, 0),\n",
    "    seasonal_order=(0, 1, 0, 4),\n",
    "    silent=True\n",
    ")\n",
    "y_hat_sarima_f"
   ]
  },
  {
   "cell_type": "markdown",
   "metadata": {},
   "source": [
    "### Simple 3 layers Multi Layer Perceptron"
   ]
  },
  {
   "cell_type": "code",
   "execution_count": 10,
   "metadata": {},
   "outputs": [
    {
     "data": {
      "text/plain": [
       "0      64.83\n",
       "1      88.53\n",
       "2      84.83\n",
       "3     104.71\n",
       "4      86.24\n",
       "       ...  \n",
       "63    160.73\n",
       "64    218.62\n",
       "65    189.28\n",
       "66    304.56\n",
       "67     23.15\n",
       "Name: １株当たり利益, Length: 68, dtype: float64"
      ]
     },
     "execution_count": 10,
     "metadata": {},
     "output_type": "execute_result"
    }
   ],
   "source": [
    "# 3 Layers Feed Forward Neural Network\n",
    "# !!!!!!!!!!!!!!!!!!!!!!!!!!!!!!! rolling, expanding window are not implemented yet !!!!!!!!!!!!!!!!!!!!!!!!!!!!!!!\n",
    "\n",
    "# y, x (lag 4)\n",
    "y = ts[var_name].drop([0, 1, 2, 3], axis=0)\n",
    "y = y.reset_index(drop=True)\n",
    "\n",
    "x = pd.DataFrame([\n",
    "    ts[var_name].shift(1),\n",
    "    ts[var_name].shift(2),\n",
    "    ts[var_name].shift(3),\n",
    "    ts[var_name].shift(4),\n",
    "]).T.drop([0, 1, 2, 3], axis=0)\n",
    "x = x.reset_index(drop=True)\n",
    "x.columns = [\"y_(t-1)\", \"y_(t-2)\", \"y_(t-3)\", \"y_(t-4)\"]\n",
    "\n",
    "y"
   ]
  },
  {
   "cell_type": "code",
   "execution_count": 11,
   "metadata": {},
   "outputs": [
    {
     "data": {
      "text/html": [
       "<div>\n",
       "<style scoped>\n",
       "    .dataframe tbody tr th:only-of-type {\n",
       "        vertical-align: middle;\n",
       "    }\n",
       "\n",
       "    .dataframe tbody tr th {\n",
       "        vertical-align: top;\n",
       "    }\n",
       "\n",
       "    .dataframe thead th {\n",
       "        text-align: right;\n",
       "    }\n",
       "</style>\n",
       "<table border=\"1\" class=\"dataframe\">\n",
       "  <thead>\n",
       "    <tr style=\"text-align: right;\">\n",
       "      <th></th>\n",
       "      <th>y_(t-1)</th>\n",
       "      <th>y_(t-2)</th>\n",
       "      <th>y_(t-3)</th>\n",
       "      <th>y_(t-4)</th>\n",
       "    </tr>\n",
       "  </thead>\n",
       "  <tbody>\n",
       "    <tr>\n",
       "      <th>0</th>\n",
       "      <td>-10.35</td>\n",
       "      <td>103.23</td>\n",
       "      <td>17.64</td>\n",
       "      <td>100.80</td>\n",
       "    </tr>\n",
       "    <tr>\n",
       "      <th>1</th>\n",
       "      <td>64.83</td>\n",
       "      <td>-10.35</td>\n",
       "      <td>103.23</td>\n",
       "      <td>17.64</td>\n",
       "    </tr>\n",
       "    <tr>\n",
       "      <th>2</th>\n",
       "      <td>88.53</td>\n",
       "      <td>64.83</td>\n",
       "      <td>-10.35</td>\n",
       "      <td>103.23</td>\n",
       "    </tr>\n",
       "    <tr>\n",
       "      <th>3</th>\n",
       "      <td>84.83</td>\n",
       "      <td>88.53</td>\n",
       "      <td>64.83</td>\n",
       "      <td>-10.35</td>\n",
       "    </tr>\n",
       "    <tr>\n",
       "      <th>4</th>\n",
       "      <td>104.71</td>\n",
       "      <td>84.83</td>\n",
       "      <td>88.53</td>\n",
       "      <td>64.83</td>\n",
       "    </tr>\n",
       "  </tbody>\n",
       "</table>\n",
       "</div>"
      ],
      "text/plain": [
       "   y_(t-1)  y_(t-2)  y_(t-3)  y_(t-4)\n",
       "0   -10.35   103.23    17.64   100.80\n",
       "1    64.83   -10.35   103.23    17.64\n",
       "2    88.53    64.83   -10.35   103.23\n",
       "3    84.83    88.53    64.83   -10.35\n",
       "4   104.71    84.83    88.53    64.83"
      ]
     },
     "execution_count": 11,
     "metadata": {},
     "output_type": "execute_result"
    }
   ],
   "source": [
    "x.head()"
   ]
  },
  {
   "cell_type": "code",
   "execution_count": 12,
   "metadata": {},
   "outputs": [
    {
     "data": {
      "text/plain": [
       "(torch.Size([68]), torch.Size([68, 4]))"
      ]
     },
     "execution_count": 12,
     "metadata": {},
     "output_type": "execute_result"
    }
   ],
   "source": [
    "# Convert data type to torch.tensor\n",
    "dtype = torch.float\n",
    "device = torch.device(\"cpu\")\n",
    "\n",
    "y_tensor = torch.tensor(y.values, dtype=dtype)\n",
    "x_tensor = torch.tensor(x.values, dtype=dtype)\n",
    "\n",
    "y_tensor.size(), x_tensor.size()"
   ]
  },
  {
   "cell_type": "code",
   "execution_count": 13,
   "metadata": {},
   "outputs": [
    {
     "name": "stdout",
     "output_type": "stream",
     "text": [
      "torch.Size([52]) torch.Size([16])\n",
      "torch.Size([52, 4]) torch.Size([16, 4])\n"
     ]
    }
   ],
   "source": [
    "# train test split\n",
    "y_test_tensor = y_tensor[-test_size:]\n",
    "y_train_tensor = y_tensor[:-test_size]\n",
    "\n",
    "x_test_tensor = x_tensor[-test_size:]\n",
    "x_train_tensor = x_tensor[:-test_size]\n",
    "\n",
    "print(y_train_tensor.size(), y_test_tensor.size())\n",
    "print(x_train_tensor.size(), x_test_tensor.size())"
   ]
  },
  {
   "cell_type": "code",
   "execution_count": 14,
   "metadata": {},
   "outputs": [
    {
     "data": {
      "text/plain": [
       "MLP(\n",
       "  (hidden): Linear(in_features=4, out_features=100, bias=True)\n",
       "  (output): Linear(in_features=100, out_features=1, bias=True)\n",
       ")"
      ]
     },
     "execution_count": 14,
     "metadata": {},
     "output_type": "execute_result"
    }
   ],
   "source": [
    "# set RNG seed\n",
    "torch.manual_seed(1)\n",
    "\n",
    "# construct, instantiate MLP\n",
    "mlp = MLP(input_features=4, hidden_units=100, output_units=1)\n",
    "mlp"
   ]
  },
  {
   "cell_type": "code",
   "execution_count": 15,
   "metadata": {},
   "outputs": [
    {
     "data": {
      "text/plain": [
       "[Parameter containing:\n",
       " tensor([[ 0.2576, -0.2207, -0.0969,  0.2347],\n",
       "         [-0.4707,  0.2999, -0.1029,  0.2544],\n",
       "         [ 0.0695, -0.0612,  0.1387,  0.0247],\n",
       "         [ 0.1826, -0.1949, -0.0365, -0.0450],\n",
       "         [ 0.0725, -0.0020,  0.4371,  0.1556],\n",
       "         [-0.1862, -0.3020, -0.0838, -0.2157],\n",
       "         [-0.1602,  0.0239,  0.2981,  0.2718],\n",
       "         [-0.4888,  0.3100,  0.1397,  0.4743],\n",
       "         [ 0.3300, -0.4556, -0.4754, -0.2412],\n",
       "         [ 0.4391, -0.0833,  0.2140, -0.2324],\n",
       "         [ 0.4906, -0.2115,  0.3750,  0.0059],\n",
       "         [-0.2634,  0.2570, -0.2654,  0.1471],\n",
       "         [-0.1444, -0.0548, -0.4807, -0.2384],\n",
       "         [ 0.2713, -0.1215,  0.4980,  0.4008],\n",
       "         [-0.0234, -0.3337,  0.3045,  0.1552],\n",
       "         [-0.3232,  0.3248,  0.3036,  0.4434],\n",
       "         [-0.2803, -0.0823, -0.0097,  0.0730],\n",
       "         [-0.3795, -0.3548,  0.2720, -0.1172],\n",
       "         [ 0.2442,  0.0285,  0.1642,  0.1099],\n",
       "         [ 0.1818,  0.2479, -0.4631,  0.2517],\n",
       "         [-0.3516, -0.3773,  0.0304, -0.0852],\n",
       "         [ 0.2937, -0.2896, -0.4445,  0.3639],\n",
       "         [-0.0741,  0.2812,  0.1607, -0.3749],\n",
       "         [ 0.1004,  0.1201, -0.3348, -0.2372],\n",
       "         [ 0.1705,  0.0896, -0.2127, -0.1514],\n",
       "         [ 0.4579, -0.0925,  0.2819,  0.2165],\n",
       "         [-0.3232, -0.4252,  0.4799,  0.0261],\n",
       "         [ 0.3427,  0.1036,  0.1608,  0.3735],\n",
       "         [ 0.4741, -0.3318,  0.0625,  0.3731],\n",
       "         [ 0.3622,  0.3106, -0.3619, -0.3601],\n",
       "         [-0.3024,  0.0628,  0.4983, -0.3158],\n",
       "         [ 0.2664, -0.2767, -0.4701, -0.1063],\n",
       "         [ 0.2881,  0.4642, -0.3105,  0.1085],\n",
       "         [ 0.4314,  0.3313,  0.3116,  0.3553],\n",
       "         [ 0.3163,  0.1291, -0.3419, -0.4199],\n",
       "         [-0.2291, -0.0582, -0.3065,  0.1829],\n",
       "         [ 0.1547, -0.1132,  0.1922,  0.1616],\n",
       "         [ 0.3053,  0.3367, -0.1693,  0.4885],\n",
       "         [-0.0578, -0.0172, -0.4719, -0.3218],\n",
       "         [-0.2921, -0.2139,  0.3555, -0.1634],\n",
       "         [-0.3736,  0.1924,  0.1601,  0.3238],\n",
       "         [-0.2587,  0.1084, -0.1820, -0.1123],\n",
       "         [-0.3985, -0.2279, -0.1531,  0.2138],\n",
       "         [ 0.0913,  0.1235,  0.4991,  0.4873],\n",
       "         [ 0.3410,  0.0159, -0.3459,  0.3908],\n",
       "         [-0.1250, -0.0404, -0.4307, -0.0988],\n",
       "         [-0.3225,  0.4595, -0.4323, -0.3897],\n",
       "         [-0.0170, -0.2704,  0.1789, -0.1925],\n",
       "         [-0.2348,  0.0283,  0.3619, -0.3517],\n",
       "         [ 0.2348,  0.3212,  0.4891, -0.3500],\n",
       "         [ 0.1211, -0.3697,  0.4269, -0.1940],\n",
       "         [ 0.3012,  0.0149, -0.0389, -0.0160],\n",
       "         [ 0.0850,  0.2357,  0.0802,  0.1525],\n",
       "         [-0.4498,  0.3643,  0.4359,  0.4133],\n",
       "         [ 0.3696, -0.3608, -0.1854,  0.4409],\n",
       "         [-0.3808,  0.4536, -0.3932, -0.3522],\n",
       "         [ 0.2444, -0.3592, -0.1146,  0.3637],\n",
       "         [ 0.3960,  0.4729, -0.1015, -0.3886],\n",
       "         [ 0.4923, -0.1065, -0.2057,  0.1219],\n",
       "         [-0.3497,  0.3286,  0.3134, -0.3967],\n",
       "         [-0.4107, -0.0438,  0.2100, -0.0145],\n",
       "         [-0.2535,  0.0114, -0.4700, -0.3534],\n",
       "         [-0.3328,  0.4118,  0.4408, -0.1698],\n",
       "         [ 0.0224,  0.2230,  0.0599, -0.2504],\n",
       "         [ 0.2884,  0.3074, -0.0290, -0.0616],\n",
       "         [ 0.4544,  0.4371, -0.2835,  0.4892],\n",
       "         [ 0.1237, -0.3321,  0.2737, -0.3733],\n",
       "         [ 0.4620, -0.3214,  0.1414,  0.1523],\n",
       "         [ 0.1189,  0.4147, -0.2077, -0.2111],\n",
       "         [-0.4333, -0.0205, -0.2369,  0.0200],\n",
       "         [-0.1025,  0.1659,  0.4325,  0.1475],\n",
       "         [-0.1611, -0.2453, -0.4361,  0.4207],\n",
       "         [-0.0947,  0.1009,  0.0185, -0.3186],\n",
       "         [ 0.2816,  0.2802,  0.0252, -0.2841],\n",
       "         [-0.2125,  0.0069, -0.2857, -0.2790],\n",
       "         [-0.0746, -0.1440,  0.1227, -0.1314],\n",
       "         [-0.0663, -0.1908, -0.4569,  0.4361],\n",
       "         [ 0.0954,  0.4471, -0.0806, -0.1257],\n",
       "         [-0.4701, -0.1898,  0.3279, -0.4897],\n",
       "         [-0.1749,  0.3046,  0.2882,  0.1846],\n",
       "         [-0.0990, -0.0379, -0.0950, -0.1843],\n",
       "         [ 0.2087, -0.1703, -0.2809,  0.1134],\n",
       "         [-0.3614, -0.1067,  0.2555,  0.1869],\n",
       "         [ 0.4257, -0.3410,  0.0043, -0.1477],\n",
       "         [-0.2797, -0.2813,  0.1260,  0.0523],\n",
       "         [-0.2552, -0.3524, -0.4143,  0.4900],\n",
       "         [-0.0852, -0.1156, -0.1839, -0.2501],\n",
       "         [-0.4573, -0.2935,  0.3056,  0.1096],\n",
       "         [-0.1764, -0.1890,  0.3194,  0.3604],\n",
       "         [ 0.4817,  0.1459,  0.2416, -0.0402],\n",
       "         [-0.2923, -0.4898,  0.3045, -0.0727],\n",
       "         [ 0.2054,  0.0246, -0.4667, -0.2453],\n",
       "         [ 0.1407, -0.1012, -0.4828,  0.1753],\n",
       "         [ 0.0192, -0.1607,  0.2020,  0.1056],\n",
       "         [-0.1844,  0.4492,  0.2508,  0.0628],\n",
       "         [-0.0960, -0.4235,  0.3860, -0.1290],\n",
       "         [-0.3231,  0.3206,  0.1776,  0.1237],\n",
       "         [-0.0991, -0.1560,  0.0848,  0.3869],\n",
       "         [ 0.0716, -0.2364,  0.4967,  0.0107],\n",
       "         [ 0.3953,  0.1219,  0.4482,  0.2885]], requires_grad=True),\n",
       " Parameter containing:\n",
       " tensor([-0.2549,  0.3512,  0.0032, -0.4014, -0.1048, -0.4513, -0.2591, -0.3542,\n",
       "          0.3420, -0.1050, -0.0864,  0.2396,  0.2035, -0.3300,  0.1843,  0.2124,\n",
       "         -0.3976,  0.4347, -0.3042, -0.1955, -0.4118,  0.4570,  0.0952,  0.4210,\n",
       "          0.0327,  0.2718, -0.1596, -0.3989,  0.0803, -0.0446, -0.0505, -0.2456,\n",
       "          0.0104,  0.1436,  0.1804, -0.4028,  0.2416,  0.0514,  0.3449,  0.3534,\n",
       "         -0.3938,  0.4802, -0.4917,  0.2874,  0.0352,  0.2366, -0.2704,  0.3006,\n",
       "         -0.2474, -0.4419,  0.1675,  0.2737,  0.4956, -0.0523,  0.4810,  0.3212,\n",
       "         -0.2480, -0.3857,  0.2804, -0.2739,  0.2293, -0.4282,  0.3648,  0.1499,\n",
       "         -0.0575,  0.2293, -0.3560, -0.1093,  0.0049, -0.2889, -0.1278, -0.2156,\n",
       "          0.4765,  0.4248,  0.4312,  0.4087, -0.4789,  0.1673,  0.1843, -0.3667,\n",
       "          0.2027, -0.2713,  0.0795,  0.1656,  0.4314, -0.2623, -0.3934,  0.4626,\n",
       "          0.2099,  0.2430,  0.1800, -0.1770,  0.3008, -0.4365,  0.0696,  0.2260,\n",
       "          0.3416, -0.2497, -0.3379,  0.1874], requires_grad=True),\n",
       " Parameter containing:\n",
       " tensor([[-0.0794, -0.0831, -0.0899, -0.0485, -0.0191, -0.0592, -0.0423, -0.0885,\n",
       "           0.0615, -0.0229, -0.0631,  0.0260, -0.0748,  0.0700,  0.0575, -0.0983,\n",
       "          -0.0785, -0.0659, -0.0541,  0.0125, -0.0989, -0.0741,  0.0457, -0.0328,\n",
       "          -0.0398, -0.0827,  0.0405,  0.0071, -0.0387, -0.0612,  0.0213,  0.0272,\n",
       "           0.0444,  0.0297, -0.0153, -0.0774,  0.0637, -0.0009, -0.0665,  0.0862,\n",
       "           0.0558, -0.0786, -0.0499, -0.0340, -0.0577,  0.0467, -0.0713,  0.0929,\n",
       "          -0.0413,  0.0590,  0.0034, -0.0440,  0.0668, -0.0763, -0.0529,  0.0120,\n",
       "           0.0793, -0.0428, -0.0609, -0.0638, -0.0441, -0.0345, -0.0233, -0.0569,\n",
       "           0.0313,  0.0008, -0.0653, -0.0571,  0.0212, -0.0014,  0.0708, -0.0152,\n",
       "          -0.0810, -0.0740, -0.0294, -0.0221,  0.0114, -0.0224,  0.0369, -0.0333,\n",
       "           0.0734,  0.0230, -0.0307,  0.0891,  0.0255, -0.0680, -0.0557,  0.0627,\n",
       "           0.0457,  0.0781, -0.0077,  0.0699,  0.0497,  0.0309, -0.0231,  0.0964,\n",
       "           0.0202, -0.0258, -0.0014,  0.0983]], requires_grad=True),\n",
       " Parameter containing:\n",
       " tensor([0.0672], requires_grad=True)]"
      ]
     },
     "execution_count": 15,
     "metadata": {},
     "output_type": "execute_result"
    }
   ],
   "source": [
    "# Access to mlp weights\n",
    "# Initial parameters (weights, bias)\n",
    "list(mlp.parameters()) # iteretor, just for printing"
   ]
  },
  {
   "cell_type": "code",
   "execution_count": 16,
   "metadata": {},
   "outputs": [
    {
     "name": "stdout",
     "output_type": "stream",
     "text": [
      "torch.Size([100, 4]) torch.Size([100])\n",
      "torch.Size([1, 100]) torch.Size([1])\n"
     ]
    }
   ],
   "source": [
    "print(mlp.hidden.weight.size(), mlp.hidden.bias.size()) # editable ?\n",
    "print(mlp.output.weight.size(), mlp.output.bias.size())"
   ]
  },
  {
   "cell_type": "code",
   "execution_count": 17,
   "metadata": {},
   "outputs": [],
   "source": [
    "# Construct loss and optimizer\n",
    "criterion = torch.nn.MSELoss(reduction=\"mean\")\n",
    "optimizer = torch.optim.Adam(mlp.parameters(), lr=1e-2) # link to mlp parameters"
   ]
  },
  {
   "cell_type": "code",
   "execution_count": 18,
   "metadata": {},
   "outputs": [
    {
     "data": {
      "text/plain": [
       "MSELoss()"
      ]
     },
     "execution_count": 18,
     "metadata": {},
     "output_type": "execute_result"
    }
   ],
   "source": [
    "criterion"
   ]
  },
  {
   "cell_type": "code",
   "execution_count": 19,
   "metadata": {},
   "outputs": [
    {
     "data": {
      "text/plain": [
       "Adam (\n",
       "Parameter Group 0\n",
       "    amsgrad: False\n",
       "    betas: (0.9, 0.999)\n",
       "    eps: 1e-08\n",
       "    lr: 0.01\n",
       "    weight_decay: 0\n",
       ")"
      ]
     },
     "execution_count": 19,
     "metadata": {},
     "output_type": "execute_result"
    }
   ],
   "source": [
    "optimizer"
   ]
  },
  {
   "cell_type": "code",
   "execution_count": 20,
   "metadata": {},
   "outputs": [
    {
     "name": "stdout",
     "output_type": "stream",
     "text": [
      "step 999: loss 1268.3673095703125\n",
      "step 1999: loss 514.0156860351562\n",
      "step 2999: loss 194.39878845214844\n",
      "step 3999: loss 71.26213836669922\n",
      "step 4999: loss 43.88747787475586\n",
      "step 5999: loss 30.07744026184082\n",
      "step 6999: loss 20.23455047607422\n",
      "step 7999: loss 19.294416427612305\n",
      "step 8999: loss 13.529149055480957\n",
      "step 9999: loss 11.314294815063477\n"
     ]
    }
   ],
   "source": [
    "# Learning iteration\n",
    "num_iteration = 10000\n",
    "\n",
    "for step in range(num_iteration):\n",
    "    # Forward pass\n",
    "    y_pred = mlp(x_train_tensor)\n",
    "    # let y_pred be the same size as y\n",
    "    y_pred = y_pred.squeeze(1)\n",
    "\n",
    "    # Compute loss\n",
    "    loss = criterion(y_pred, y_train_tensor) # link to mlp output\n",
    "    if step % 1000 == 999:\n",
    "        print(f\"step {step}: loss {loss.item()}\")\n",
    "\n",
    "    # Zero gradients, perform backward pass, and update weights\n",
    "    optimizer.zero_grad()\n",
    "    loss.backward()\n",
    "    optimizer.step()"
   ]
  },
  {
   "cell_type": "code",
   "execution_count": 21,
   "metadata": {},
   "outputs": [
    {
     "data": {
      "text/plain": [
       "[Parameter containing:\n",
       " tensor([[ 8.3694e-01,  3.6191e-02, -2.9272e-01,  5.7951e-01],\n",
       "         [-1.1313e+00,  1.0871e+00, -9.8852e-01,  2.1064e-01],\n",
       "         [ 4.8308e-01, -1.2548e+00, -5.2249e-01,  9.7533e-01],\n",
       "         [ 6.7270e-01, -1.3870e+00,  3.8486e-01, -5.5486e-02],\n",
       "         [ 1.3378e+00, -4.4044e-01,  8.3763e-01, -2.1407e-01],\n",
       "         [ 3.2510e-01,  1.8902e-01, -1.5347e-01, -1.0658e+00],\n",
       "         [-6.8214e-04,  2.2322e-01,  3.8580e-01,  9.4113e-01],\n",
       "         [-9.4053e-01,  2.4365e-01,  7.7483e-01,  6.7509e-01],\n",
       "         [ 1.0261e+00, -5.4144e-01,  5.2462e-01,  5.5791e-02],\n",
       "         [ 6.1839e-01, -1.2492e+00,  1.1539e+00,  2.3503e-01],\n",
       "         [-9.5721e-02,  3.1567e-01,  1.7281e-02, -1.1325e-01],\n",
       "         [-6.3714e-01,  2.7327e-01,  8.0096e-01,  3.3952e-01],\n",
       "         [ 1.3397e-01,  8.3954e-01, -1.7721e+00, -7.2772e-01],\n",
       "         [ 5.4039e-01,  1.8893e-01,  3.2780e-01,  3.3287e-01],\n",
       "         [ 2.0261e-02, -3.3065e-01,  1.3419e+00,  5.3460e-01],\n",
       "         [-4.7400e-01,  1.3215e-01,  2.6749e-01,  1.0240e+00],\n",
       "         [-1.1829e+00, -8.8032e-01,  1.8460e-01,  1.0901e+00],\n",
       "         [-7.7346e-01, -7.8800e-01,  3.4744e-02,  8.7594e-01],\n",
       "         [ 5.0690e-01,  2.1241e-01, -7.7307e-01,  3.1919e-01],\n",
       "         [ 1.6924e+00,  1.3123e+00, -1.1138e+00, -1.1796e+00],\n",
       "         [-7.9008e-01, -5.9397e-01, -9.8950e-03,  8.1733e-01],\n",
       "         [ 7.1238e-01, -4.0016e-02, -2.2213e-01,  4.8184e-01],\n",
       "         [ 7.9746e-01,  3.5795e-01,  2.1733e-01, -1.5041e-01],\n",
       "         [ 1.0127e+00,  1.1562e+00, -2.2632e+00,  6.0605e-01],\n",
       "         [ 5.7184e-01,  2.1022e+00, -2.1285e+00, -5.1916e-01],\n",
       "         [ 6.4616e-01, -5.2692e-01,  5.4499e-01,  4.0295e-01],\n",
       "         [ 3.9031e-02, -4.5899e-01,  1.0989e+00,  5.6636e-01],\n",
       "         [ 4.5215e-01,  2.1293e-01,  2.6974e-01,  2.6468e-01],\n",
       "         [-3.7495e-01,  6.6478e-01, -1.4100e-01, -1.2737e-01],\n",
       "         [ 8.7659e-01,  6.3106e-01,  1.5271e-01, -1.3649e-01],\n",
       "         [ 1.3833e-01,  6.1961e-01,  5.7078e-01,  2.3812e-01],\n",
       "         [ 2.4314e-01, -7.0569e-01, -9.2445e-01,  1.5046e+00],\n",
       "         [ 1.3980e+00,  5.7554e-01,  3.0322e-01, -8.4405e-02],\n",
       "         [ 4.3143e-01,  3.3133e-01,  3.1161e-01,  3.5532e-01],\n",
       "         [ 1.0809e+00,  1.2634e+00, -5.2476e-01, -8.6383e-01],\n",
       "         [-9.5609e-01,  4.3693e-01, -1.5275e+00,  8.8393e-01],\n",
       "         [ 1.1261e+00, -1.1254e+00,  6.3931e-01,  3.4050e-01],\n",
       "         [ 7.7504e-01,  2.0262e-01, -2.0502e-01,  3.9558e-01],\n",
       "         [-6.3291e-03, -6.2979e-01, -2.3584e-01, -3.1790e-02],\n",
       "         [-1.3470e-01, -1.1145e+00,  1.1512e+00,  8.4790e-01],\n",
       "         [-7.7870e-02,  5.2313e-01,  3.8932e-01,  3.3389e-01],\n",
       "         [ 4.2499e-01,  7.3230e-01, -1.9714e+00, -4.5050e-01],\n",
       "         [-1.5487e+00, -1.4306e+00,  7.8926e-01,  1.2808e+00],\n",
       "         [ 3.4241e-01,  3.7015e-01,  4.9927e-01,  2.5735e-01],\n",
       "         [ 1.0133e+00,  2.4127e-01,  1.8000e-01,  7.3356e-02],\n",
       "         [ 6.8764e-01,  2.7854e-01,  4.3490e-02,  3.8383e-02],\n",
       "         [ 4.2001e-01,  2.0624e-01, -1.5926e-01, -1.3250e+00],\n",
       "         [ 5.8999e-01, -3.1752e-01,  9.5661e-01, -5.2483e-01],\n",
       "         [ 6.3503e-01, -7.0521e-01,  1.2288e+00, -1.4738e-01],\n",
       "         [ 7.2423e-01, -3.9943e-01,  1.2847e+00, -9.3794e-01],\n",
       "         [ 4.4821e-01, -1.1210e+00,  1.4222e+00, -3.7901e-01],\n",
       "         [ 7.3222e-01,  1.0450e+00, -2.6359e-01, -1.0888e+00],\n",
       "         [ 7.6415e-01, -4.4010e-01,  9.4635e-01, -1.2511e-01],\n",
       "         [-2.8167e-01,  5.6055e-01,  6.5838e-01,  4.4782e-01],\n",
       "         [ 8.2714e-01, -1.3878e-01,  2.4915e-02,  3.0109e-01],\n",
       "         [ 8.0813e-01,  6.0230e-01,  7.2374e-02, -8.5413e-02],\n",
       "         [ 7.1016e-01, -4.6839e-02, -1.5250e-01,  4.0188e-01],\n",
       "         [ 2.2523e-02,  1.8891e-01, -9.6071e-01, -1.6523e+00],\n",
       "         [ 1.3577e+00, -1.2513e+00,  4.3439e-01,  4.7207e-01],\n",
       "         [ 7.2283e-02,  6.7138e-01,  5.4720e-01,  1.2744e-01],\n",
       "         [-5.1638e-01, -2.9003e-01,  6.0454e-01, -2.1611e-01],\n",
       "         [ 3.5871e-01,  2.3320e-01, -1.1316e-01, -1.2028e+00],\n",
       "         [ 2.4205e-01,  8.9071e-01,  5.2707e-01,  2.1777e-01],\n",
       "         [ 7.5549e-01,  3.4623e-01,  1.6651e-01, -1.0628e-01],\n",
       "         [ 1.0331e+00,  4.7560e-01,  5.6866e-02,  1.0985e-01],\n",
       "         [ 7.7327e-01,  2.1971e-01, -2.7488e-01,  4.6165e-01],\n",
       "         [ 1.1536e-01, -1.4206e+00,  2.8655e-01,  2.1491e-01],\n",
       "         [ 1.6758e+00, -1.1098e+00,  1.0589e+00,  3.0971e-02],\n",
       "         [ 5.7283e-01,  4.8908e-01,  4.3285e-01, -1.2610e+00],\n",
       "         [-8.7722e-01,  5.1696e-01, -9.3803e-01,  1.0371e-01],\n",
       "         [-8.3860e-01,  2.2667e-01,  8.3786e-01,  4.7414e-01],\n",
       "         [ 6.2453e-01,  8.8831e-02, -3.1768e-01,  1.2295e+00],\n",
       "         [ 1.0016e-01,  1.0100e+00, -5.9427e-01, -2.3890e+00],\n",
       "         [ 1.4095e+00,  1.2991e+00, -6.9987e-01, -1.1743e+00],\n",
       "         [-3.8533e-01, -4.2855e-01, -2.9590e-01, -1.6913e-01],\n",
       "         [-8.9603e-01, -5.5463e-01,  3.8070e-02,  8.1039e-01],\n",
       "         [ 3.1578e-01,  3.3746e-01, -4.8910e-02,  6.0400e-01],\n",
       "         [-2.2467e-01,  7.1181e-01,  5.8736e-02, -1.8906e+00],\n",
       "         [ 2.2044e-01, -1.6431e+00,  3.2756e-01,  1.2339e-01],\n",
       "         [-7.9102e-01,  2.2886e-01,  7.3524e-01,  4.3999e-01],\n",
       "         [ 6.9497e-02, -9.7007e-02, -2.1265e-01,  3.8209e-01],\n",
       "         [ 8.1626e-01,  1.8192e-01,  1.3111e-01,  5.0632e-02],\n",
       "         [-1.2591e+00, -9.2536e-01,  1.3446e-01,  1.1198e+00],\n",
       "         [ 1.4163e+00, -8.0608e-01,  8.7316e-01,  6.0452e-02],\n",
       "         [-1.0389e+00, -1.4708e+00,  7.5279e-01,  6.6382e-01],\n",
       "         [-1.0506e+00,  7.2941e-01, -8.4731e-01,  4.3840e-01],\n",
       "         [ 7.9477e-02, -1.7712e-01, -2.8420e-01,  1.9443e-01],\n",
       "         [-9.2000e-01, -1.2733e+00,  9.0869e-01,  7.5272e-01],\n",
       "         [-3.4590e-03, -5.4302e-01,  1.2141e+00,  6.0513e-01],\n",
       "         [ 1.2487e+00,  1.1174e+00, -5.6718e-01, -1.0985e+00],\n",
       "         [-9.1921e-01, -7.5517e-01,  4.8919e-01,  6.3332e-01],\n",
       "         [ 7.3567e-01,  6.8200e-01,  4.4009e-01, -1.5234e+00],\n",
       "         [ 6.3103e-01, -4.1993e-02, -2.1166e-01,  4.2535e-01],\n",
       "         [-5.2788e-01,  2.8297e-01,  1.2720e+00, -3.3738e-01],\n",
       "         [-2.7634e-01,  8.3975e-01,  6.7530e-01, -3.2284e-01],\n",
       "         [-4.7010e-01, -4.4559e-01,  1.1324e+00,  2.8614e-01],\n",
       "         [-1.2939e+00,  1.0620e-01,  8.0971e-01,  9.1844e-01],\n",
       "         [ 2.2354e-01, -5.6211e-01, -2.4475e-01,  8.8055e-01],\n",
       "         [-8.2941e-02,  3.3763e-02,  4.5010e-01,  1.0766e+00],\n",
       "         [ 4.6923e-01,  1.9366e-01,  5.0300e-01,  2.4735e-01]],\n",
       "        requires_grad=True),\n",
       " Parameter containing:\n",
       " tensor([ 5.3786e-01,  9.6770e+00, -6.2174e-01,  6.3587e+00, -1.4452e+00,\n",
       "          2.2903e+00, -2.2768e-02, -3.2664e+00,  8.4853e-02, -5.0948e+00,\n",
       "         -2.3949e+01, -7.1601e+00,  3.5524e+00, -1.0601e+00, -1.1790e+00,\n",
       "         -2.6453e-01,  4.9314e+00,  6.0552e+00, -3.1756e+01, -2.8638e+00,\n",
       "          5.2539e+00,  7.3941e-01,  2.1611e+00,  1.9744e+00, -9.8672e+00,\n",
       "         -2.0483e-01, -1.4142e+00, -2.9023e-01, -2.3702e+01,  4.8826e-01,\n",
       "         -1.5999e-01, -9.8673e+00, -5.0090e+00,  1.4359e-01, -3.0222e+00,\n",
       "          5.4452e-01, -6.4106e+00,  5.3150e-01,  2.4163e+00, -3.7648e+00,\n",
       "         -2.2121e-02,  4.1060e+00,  4.2291e+00,  3.4551e-01, -4.0938e-01,\n",
       "          1.9136e+00,  1.0600e+00, -1.0163e+00, -1.9574e+00, -4.7524e+00,\n",
       "          8.2856e-01, -4.4416e+00, -1.8470e-01,  1.8502e-01,  3.8945e-01,\n",
       "          1.8677e+00,  6.4957e-01, -5.3161e+00, -5.1509e+00,  2.3737e-01,\n",
       "          1.7013e+01,  2.6014e+00,  6.3165e-01,  2.6382e+00,  2.5278e-01,\n",
       "          5.5832e-01,  1.7399e+00, -4.0841e+00, -6.5201e+00,  1.9789e+01,\n",
       "         -9.2109e+00, -2.7748e+00,  2.2330e+00, -3.9529e+00, -1.0388e-01,\n",
       "          6.1053e+00,  5.4953e-01, -6.2573e+00,  8.5028e-01, -7.4414e+00,\n",
       "         -2.6036e+01,  6.4459e-01,  5.9961e+00, -6.7247e+00,  5.6797e+00,\n",
       "          2.6938e+00,  2.2512e+01,  5.3656e+00, -1.1939e+00, -2.5867e+00,\n",
       "          6.8573e+00, -1.5050e+01,  1.5009e+00, -2.2065e+00, -5.2225e+00,\n",
       "         -1.0354e+00, -6.7175e+00, -1.5344e+00, -9.5319e-01,  2.3865e-01],\n",
       "        requires_grad=True),\n",
       " Parameter containing:\n",
       " tensor([[  6.2998, -16.7409,  16.4865,  29.5416,   2.2728, -17.7644,  -1.8803,\n",
       "            1.1773,   4.3312,   2.5427,  14.6974,   1.0910, -34.7213,  -2.9950,\n",
       "           -1.3388,  -1.8759, -12.3127, -12.5808,  19.3095,   8.0995, -12.5866,\n",
       "            5.2985,   6.0643,  21.1909,   9.2187,  -4.0385,  -2.1853,  -3.0560,\n",
       "           17.9767,   7.4847,  -2.9443,  27.4428,   2.4091,  -3.0333,   1.2336,\n",
       "           35.8933,   4.5331,   4.3361, -11.0209,  -5.5627,  -1.7524, -28.6916,\n",
       "          -16.1110,  -3.1571,   5.6208,   7.6636, -20.6822,  -5.0127,  -6.1737,\n",
       "            2.1521, -10.2340,   4.9875,   1.8759,  -1.9208,   5.3838,   7.4163,\n",
       "            3.9060,   1.2027,   4.2022,  -4.5303,  -8.4951, -17.0837,  -2.9735,\n",
       "            7.6644,   5.5469,   4.4141,  39.1704,   3.3924,  11.3215,  42.4639,\n",
       "            3.0277,  -6.6913,  28.4824,   4.1101, -11.6656, -12.4018,  -2.8320,\n",
       "            5.3832,  32.6018,   0.9870,  12.3256,   5.8940, -11.6736,   3.6130,\n",
       "          -15.5788, -18.7057, -30.3864, -16.9253,  -1.9125,   4.5033, -11.8293,\n",
       "           17.9261,   4.1943,   0.1274,   0.2289,  -2.4968,   9.6072,  -6.5814,\n",
       "           -3.0015,  -2.9647]], requires_grad=True),\n",
       " Parameter containing:\n",
       " tensor([-3.6377], requires_grad=True)]"
      ]
     },
     "execution_count": 21,
     "metadata": {},
     "output_type": "execute_result"
    }
   ],
   "source": [
    "# Check trained parameters\n",
    "list(mlp.parameters())"
   ]
  },
  {
   "cell_type": "code",
   "execution_count": 22,
   "metadata": {},
   "outputs": [
    {
     "data": {
      "text/plain": [
       "array([158.68019 , 175.49635 , 170.46222 ,  93.029526, 134.03215 ,\n",
       "       152.46564 , 211.71498 , 147.40782 , 152.47578 , 113.08425 ,\n",
       "       141.64531 ,  61.268604,  45.159195, 122.708405, 122.75116 ,\n",
       "       161.8203  ], dtype=float32)"
      ]
     },
     "execution_count": 22,
     "metadata": {},
     "output_type": "execute_result"
    }
   ],
   "source": [
    "# predict y_hat\n",
    "y_hat_mlp = mlp(x_test_tensor).squeeze().detach().numpy()\n",
    "y_hat_mlp"
   ]
  },
  {
   "cell_type": "markdown",
   "metadata": {},
   "source": [
    "## Predition Performance"
   ]
  },
  {
   "cell_type": "code",
   "execution_count": 23,
   "metadata": {},
   "outputs": [
    {
     "data": {
      "text/html": [
       "<div>\n",
       "<style scoped>\n",
       "    .dataframe tbody tr th:only-of-type {\n",
       "        vertical-align: middle;\n",
       "    }\n",
       "\n",
       "    .dataframe tbody tr th {\n",
       "        vertical-align: top;\n",
       "    }\n",
       "\n",
       "    .dataframe thead th {\n",
       "        text-align: right;\n",
       "    }\n",
       "</style>\n",
       "<table border=\"1\" class=\"dataframe\">\n",
       "  <thead>\n",
       "    <tr style=\"text-align: right;\">\n",
       "      <th></th>\n",
       "      <th>random walk</th>\n",
       "      <th>SARIMA: BR</th>\n",
       "      <th>SARIMA: G</th>\n",
       "      <th>SARIMA: F</th>\n",
       "      <th>MLP</th>\n",
       "    </tr>\n",
       "  </thead>\n",
       "  <tbody>\n",
       "    <tr>\n",
       "      <th>MAE</th>\n",
       "      <td>87.295625</td>\n",
       "      <td>66.077148</td>\n",
       "      <td>74.753328</td>\n",
       "      <td>88.923733</td>\n",
       "      <td>75.874780</td>\n",
       "    </tr>\n",
       "    <tr>\n",
       "      <th>MAPE</th>\n",
       "      <td>1.207818</td>\n",
       "      <td>0.689469</td>\n",
       "      <td>1.218414</td>\n",
       "      <td>1.300829</td>\n",
       "      <td>0.749869</td>\n",
       "    </tr>\n",
       "    <tr>\n",
       "      <th>MSE</th>\n",
       "      <td>12151.358681</td>\n",
       "      <td>7104.267580</td>\n",
       "      <td>11791.377932</td>\n",
       "      <td>14700.944361</td>\n",
       "      <td>8567.061686</td>\n",
       "    </tr>\n",
       "    <tr>\n",
       "      <th>RMSE</th>\n",
       "      <td>110.233201</td>\n",
       "      <td>84.286817</td>\n",
       "      <td>108.588111</td>\n",
       "      <td>121.247451</td>\n",
       "      <td>92.558423</td>\n",
       "    </tr>\n",
       "    <tr>\n",
       "      <th>RMSPE</th>\n",
       "      <td>3.113151</td>\n",
       "      <td>1.466094</td>\n",
       "      <td>3.329172</td>\n",
       "      <td>3.343005</td>\n",
       "      <td>1.575647</td>\n",
       "    </tr>\n",
       "  </tbody>\n",
       "</table>\n",
       "</div>"
      ],
      "text/plain": [
       "        random walk   SARIMA: BR     SARIMA: G     SARIMA: F          MLP\n",
       "MAE       87.295625    66.077148     74.753328     88.923733    75.874780\n",
       "MAPE       1.207818     0.689469      1.218414      1.300829     0.749869\n",
       "MSE    12151.358681  7104.267580  11791.377932  14700.944361  8567.061686\n",
       "RMSE     110.233201    84.286817    108.588111    121.247451    92.558423\n",
       "RMSPE      3.113151     1.466094      3.329172      3.343005     1.575647"
      ]
     },
     "execution_count": 23,
     "metadata": {},
     "output_type": "execute_result"
    }
   ],
   "source": [
    "# compare prediction performance with forecast accuracy indexes\n",
    "accuracy = pd.DataFrame(\n",
    "    [\n",
    "        [\n",
    "            MAE(y_test, y_hat_rw),\n",
    "            MAE(y_test, y_hat_sarima_br),\n",
    "            MAE(y_test, y_hat_sarima_g),\n",
    "            MAE(y_test, y_hat_sarima_f),\n",
    "            MAE(y_test, y_hat_mlp)\n",
    "        ],\n",
    "        [\n",
    "            MAPE(y_test, y_hat_rw),\n",
    "            MAPE(y_test, y_hat_sarima_br),\n",
    "            MAPE(y_test, y_hat_sarima_g),\n",
    "            MAPE(y_test, y_hat_sarima_f),\n",
    "            MAPE(y_test, y_hat_mlp)\n",
    "        ],\n",
    "        [\n",
    "            MSE(y_test, y_hat_rw),\n",
    "            MSE(y_test, y_hat_sarima_br),\n",
    "            MSE(y_test, y_hat_sarima_g),\n",
    "            MSE(y_test, y_hat_sarima_f),\n",
    "            MSE(y_test, y_hat_mlp)\n",
    "        ],\n",
    "        [\n",
    "            RMSE(y_test, y_hat_rw),\n",
    "            RMSE(y_test, y_hat_sarima_br),\n",
    "            RMSE(y_test, y_hat_sarima_g),\n",
    "            RMSE(y_test, y_hat_sarima_f),\n",
    "            RMSE(y_test, y_hat_mlp)\n",
    "        ],\n",
    "        [\n",
    "            RMSPE(y_test, y_hat_rw),\n",
    "            RMSPE(y_test, y_hat_sarima_br),\n",
    "            RMSPE(y_test, y_hat_sarima_g),\n",
    "            RMSPE(y_test, y_hat_sarima_f),\n",
    "            RMSPE(y_test, y_hat_mlp)\n",
    "        ]\n",
    "    ],\n",
    "    index=[\"MAE\", \"MAPE\", \"MSE\", \"RMSE\", \"RMSPE\"],\n",
    "    columns=[\"random walk\", \"SARIMA: BR\", \"SARIMA: G\", \"SARIMA: F\", \"MLP\"]\n",
    ")\n",
    "accuracy"
   ]
  },
  {
   "cell_type": "markdown",
   "metadata": {},
   "source": [
    "## Visualize Preditctions"
   ]
  },
  {
   "cell_type": "code",
   "execution_count": 24,
   "metadata": {},
   "outputs": [
    {
     "data": {
      "image/png": "[encoded data removed]",
      "text/plain": [
       "<Figure size 1152x648 with 1 Axes>"
      ]
     },
     "metadata": {
      "needs_background": "light"
     },
     "output_type": "display_data"
    }
   ],
   "source": [
    "# plot each y_hat series\n",
    "fig = plt.figure(figsize=(16, 9))\n",
    "ax = fig.add_subplot(111)\n",
    "ax.plot(ts[\"決算期\"][train_size:], [0] * len(ts[\"決算期\"][train_size:]), color=\"black\")\n",
    "\n",
    "ax.plot(ts[\"決算期\"][train_size:], y_test, marker=\"o\", label=\"y: record\")\n",
    "    \n",
    "\n",
    "ax.plot(ts[\"決算期\"][train_size:], y_hat_rw, marker=\"o\", label=\"y_hat: random walk\", linestyle=\"--\")\n",
    "ax.plot(ts[\"決算期\"][train_size:], y_hat_sarima_br, marker=\"o\", label=\"y_hat: SARIMA BR\", linestyle=\"--\")\n",
    "ax.plot(ts[\"決算期\"][train_size:], y_hat_sarima_g, marker=\"o\", label=\"y_hat: SARIMA G\", linestyle=\"--\")\n",
    "ax.plot(ts[\"決算期\"][train_size:], y_hat_sarima_f, marker=\"o\", label=\"y_hat: SARIMA F\", linestyle=\"--\")\n",
    "ax.plot(ts[\"決算期\"][train_size:], y_hat_mlp, marker=\"o\", label=\"y_hat: MLP\", linestyle=\"--\")\n",
    "\n",
    "ax.tick_params(axis=\"x\", rotation=90)\n",
    "ax.legend()\n",
    "plt.show()"
   ]
  },
  {
   "cell_type": "code",
   "execution_count": null,
   "metadata": {},
   "outputs": [],
   "source": []
  }
 ],
 "metadata": {
  "kernelspec": {
   "display_name": "Python 3",
   "language": "python",
   "name": "python3"
  },
  "language_info": {
   "codemirror_mode": {
    "name": "ipython",
    "version": 3
   },
   "file_extension": ".py",
   "mimetype": "text/x-python",
   "name": "python",
   "nbconvert_exporter": "python",
   "pygments_lexer": "ipython3",
   "version": "3.8.5"
  }
 },
 "nbformat": 4,
 "nbformat_minor": 4
}
