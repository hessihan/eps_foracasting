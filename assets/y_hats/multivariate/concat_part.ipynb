{
 "cells": [
  {
   "cell_type": "code",
   "execution_count": 1,
   "metadata": {},
   "outputs": [],
   "source": [
    "import numpy as np\n",
    "import pandas as pd\n",
    "import sys\n",
    "\n",
    "sys.path.insert(1, \"/mnt/d/0ngoing/thesis/repo/src/\")\n",
    "from utils.accuracy import *"
   ]
  },
  {
   "cell_type": "code",
   "execution_count": 2,
   "metadata": {},
   "outputs": [
    {
     "data": {
      "text/html": [
       "<div>\n",
       "<style scoped>\n",
       "    .dataframe tbody tr th:only-of-type {\n",
       "        vertical-align: middle;\n",
       "    }\n",
       "\n",
       "    .dataframe tbody tr th {\n",
       "        vertical-align: top;\n",
       "    }\n",
       "\n",
       "    .dataframe thead th {\n",
       "        text-align: right;\n",
       "    }\n",
       "</style>\n",
       "<table border=\"1\" class=\"dataframe\">\n",
       "  <thead>\n",
       "    <tr style=\"text-align: right;\">\n",
       "      <th></th>\n",
       "      <th></th>\n",
       "      <th></th>\n",
       "      <th>y_test</th>\n",
       "    </tr>\n",
       "    <tr>\n",
       "      <th>企業名</th>\n",
       "      <th>会計年度</th>\n",
       "      <th>四半期</th>\n",
       "      <th></th>\n",
       "    </tr>\n",
       "  </thead>\n",
       "  <tbody>\n",
       "    <tr>\n",
       "      <th rowspan=\"5\" valign=\"top\">あらた</th>\n",
       "      <th rowspan=\"4\" valign=\"top\">2018</th>\n",
       "      <th>Q1</th>\n",
       "      <td>105.420000</td>\n",
       "    </tr>\n",
       "    <tr>\n",
       "      <th>Q2</th>\n",
       "      <td>90.440000</td>\n",
       "    </tr>\n",
       "    <tr>\n",
       "      <th>Q3</th>\n",
       "      <td>106.240000</td>\n",
       "    </tr>\n",
       "    <tr>\n",
       "      <th>Q4</th>\n",
       "      <td>99.220000</td>\n",
       "    </tr>\n",
       "    <tr>\n",
       "      <th>2019</th>\n",
       "      <th>Q1</th>\n",
       "      <td>116.850000</td>\n",
       "    </tr>\n",
       "    <tr>\n",
       "      <th>...</th>\n",
       "      <th>...</th>\n",
       "      <th>...</th>\n",
       "      <td>...</td>\n",
       "    </tr>\n",
       "    <tr>\n",
       "      <th rowspan=\"5\" valign=\"top\">ｅＢＡＳＥ</th>\n",
       "      <th>2019</th>\n",
       "      <th>Q4</th>\n",
       "      <td>18.657982</td>\n",
       "    </tr>\n",
       "    <tr>\n",
       "      <th rowspan=\"4\" valign=\"top\">2020</th>\n",
       "      <th>Q1</th>\n",
       "      <td>2.010000</td>\n",
       "    </tr>\n",
       "    <tr>\n",
       "      <th>Q2</th>\n",
       "      <td>3.810000</td>\n",
       "    </tr>\n",
       "    <tr>\n",
       "      <th>Q3</th>\n",
       "      <td>3.070000</td>\n",
       "    </tr>\n",
       "    <tr>\n",
       "      <th>Q4</th>\n",
       "      <td>9.989365</td>\n",
       "    </tr>\n",
       "  </tbody>\n",
       "</table>\n",
       "<p>12036 rows × 1 columns</p>\n",
       "</div>"
      ],
      "text/plain": [
       "                    y_test\n",
       "企業名   会計年度 四半期            \n",
       "あらた   2018 Q1   105.420000\n",
       "           Q2    90.440000\n",
       "           Q3   106.240000\n",
       "           Q4    99.220000\n",
       "      2019 Q1   116.850000\n",
       "...                    ...\n",
       "ｅＢＡＳＥ 2019 Q4    18.657982\n",
       "      2020 Q1     2.010000\n",
       "           Q2     3.810000\n",
       "           Q3     3.070000\n",
       "           Q4     9.989365\n",
       "\n",
       "[12036 rows x 1 columns]"
      ]
     },
     "execution_count": 2,
     "metadata": {},
     "output_type": "execute_result"
    }
   ],
   "source": [
    "y_test = pd.read_csv(\"./../univariate/y_test.csv\", index_col=[0, 1, 2])\n",
    "y_test"
   ]
  },
  {
   "cell_type": "code",
   "execution_count": 79,
   "metadata": {},
   "outputs": [
    {
     "data": {
      "text/plain": [
       "0.45745193651892674"
      ]
     },
     "execution_count": 79,
     "metadata": {},
     "output_type": "execute_result"
    }
   ],
   "source": [
    "# original\n",
    "# tune space\n",
    "\n",
    "y_hat_mraf_i_tuned_simple = pd.read_csv(\"./y_hat_mraf_i_tuned_simple.csv\", index_col=[0, 1, 2])\n",
    "\n",
    "y_hat_mraf_i_tuned_simple = y_hat_mraf_i_tuned_simple.loc[y_test.index]\n",
    "\n",
    "MAPEUB(y_test[\"y_test\"].values, y_hat_mraf_i_tuned_simple[\"y_hat_mraf_i_tuned_simple\"].values)\n",
    "\n",
    "# choose original as final\n",
    "y_hat_mraf_i_tuned_simple.to_csv(\"./y_hat_mraf.csv\")"
   ]
  },
  {
   "cell_type": "code",
   "execution_count": 61,
   "metadata": {},
   "outputs": [
    {
     "data": {
      "text/plain": [
       "0.45755709421199575"
      ]
     },
     "execution_count": 61,
     "metadata": {},
     "output_type": "execute_result"
    }
   ],
   "source": [
    "# concat y_hat_mraf\n",
    "# tune space\n",
    "\n",
    "y_hat_mraf = pd.DataFrame()\n",
    "\n",
    "part_list = [\n",
    "    \"./y_hat_mraf_part0.csv\",\n",
    "    \"./y_hat_mraf_part1.csv\",\n",
    "    \"./y_hat_mraf_part2.csv\",\n",
    "    \"./y_hat_mraf_part3.csv\",\n",
    "    \"./y_hat_mraf_part4.csv\",\n",
    "    \"./y_hat_mraf_part5.csv\",\n",
    "]\n",
    "\n",
    "for p in part_list:\n",
    "    part = pd.read_csv(p, index_col=[0, 1, 2])\n",
    "    part = part.rename(columns=lambda s: s[:-6])\n",
    "    y_hat_mraf = pd.concat([y_hat_mraf, part], axis=0)\n",
    "\n",
    "y_hat_mraf = y_hat_mraf.loc[y_test.index]\n",
    "y_hat_mraf = y_hat_mraf.drop_duplicates()\n",
    "\n",
    "MAPEUB(y_test[\"y_test\"].values, y_hat_mraf[\"y_hat_mraf\"].values)"
   ]
  },
  {
   "cell_type": "code",
   "execution_count": null,
   "metadata": {},
   "outputs": [],
   "source": [
    "# penalized reg"
   ]
  },
  {
   "cell_type": "code",
   "execution_count": 76,
   "metadata": {},
   "outputs": [
    {
     "data": {
      "text/plain": [
       "0.5032489816391689"
      ]
     },
     "execution_count": 76,
     "metadata": {},
     "output_type": "execute_result"
    }
   ],
   "source": [
    "\n",
    "y_hat = pd.read_csv(\"./y_hat_ml2_i_tuned_simple.csv\", index_col=[0, 1, 2])\n",
    "\n",
    "y_hat = y_hat.loc[y_test.index]\n",
    "\n",
    "MAPEUB(y_test[\"y_test\"].values, y_hat[y_hat.columns[0]].values)"
   ]
  },
  {
   "cell_type": "code",
   "execution_count": 77,
   "metadata": {},
   "outputs": [
    {
     "data": {
      "text/plain": [
       "0.5399230808306914"
      ]
     },
     "execution_count": 77,
     "metadata": {},
     "output_type": "execute_result"
    }
   ],
   "source": [
    "y_hat = pd.read_csv(\"./y_hat_ml2_i_tuned.csv\", index_col=[0, 1, 2])\n",
    "\n",
    "y_hat = y_hat.loc[y_test.index]\n",
    "\n",
    "MAPEUB(y_test[\"y_test\"].values, y_hat[y_hat.columns[0]].values)"
   ]
  },
  {
   "cell_type": "code",
   "execution_count": 78,
   "metadata": {},
   "outputs": [
    {
     "data": {
      "text/plain": [
       "0.5032489589316703"
      ]
     },
     "execution_count": 78,
     "metadata": {},
     "output_type": "execute_result"
    }
   ],
   "source": [
    "y_hat = pd.read_csv(\"./colab/y_hat_ml2.csv\", index_col=[0, 1, 2])\n",
    "\n",
    "# y_hat = y_hat.loc[y_test.index]\n",
    "\n",
    "MAPEUB(y_test[\"y_test\"].values, y_hat[y_hat.columns[0]].values)"
   ]
  },
  {
   "cell_type": "code",
   "execution_count": 33,
   "metadata": {},
   "outputs": [
    {
     "data": {
      "text/plain": [
       "0.8012809411536781"
      ]
     },
     "execution_count": 33,
     "metadata": {},
     "output_type": "execute_result"
    }
   ],
   "source": [
    "# drop_index\n",
    "y_hat = pd.read_csv(\"./y_hat_mlm4.csv\", index_col=[0, 1, 2])\n",
    "\n",
    "y_hat = y_hat.loc[y_test.index]\n",
    "y_hat.to_csv(\"./y_hat_mlm3.csv\")\n",
    "\n",
    "MAPEUB(y_test[\"y_test\"].values, y_hat[y_hat.columns[0]].values)"
   ]
  },
  {
   "cell_type": "code",
   "execution_count": null,
   "metadata": {},
   "outputs": [],
   "source": []
  },
  {
   "cell_type": "code",
   "execution_count": 34,
   "metadata": {},
   "outputs": [
    {
     "data": {
      "text/html": [
       "<div>\n",
       "<style scoped>\n",
       "    .dataframe tbody tr th:only-of-type {\n",
       "        vertical-align: middle;\n",
       "    }\n",
       "\n",
       "    .dataframe tbody tr th {\n",
       "        vertical-align: top;\n",
       "    }\n",
       "\n",
       "    .dataframe thead th {\n",
       "        text-align: right;\n",
       "    }\n",
       "</style>\n",
       "<table border=\"1\" class=\"dataframe\">\n",
       "  <thead>\n",
       "    <tr style=\"text-align: right;\">\n",
       "      <th></th>\n",
       "      <th></th>\n",
       "      <th></th>\n",
       "      <th>y_hat_mlm4</th>\n",
       "    </tr>\n",
       "    <tr>\n",
       "      <th>企業名</th>\n",
       "      <th>会計年度</th>\n",
       "      <th>四半期</th>\n",
       "      <th></th>\n",
       "    </tr>\n",
       "  </thead>\n",
       "  <tbody>\n",
       "    <tr>\n",
       "      <th rowspan=\"5\" valign=\"top\">あらた</th>\n",
       "      <th rowspan=\"4\" valign=\"top\">2018</th>\n",
       "      <th>Q1</th>\n",
       "      <td>263.859095</td>\n",
       "    </tr>\n",
       "    <tr>\n",
       "      <th>Q2</th>\n",
       "      <td>186.013135</td>\n",
       "    </tr>\n",
       "    <tr>\n",
       "      <th>Q3</th>\n",
       "      <td>-90.797436</td>\n",
       "    </tr>\n",
       "    <tr>\n",
       "      <th>Q4</th>\n",
       "      <td>43.663635</td>\n",
       "    </tr>\n",
       "    <tr>\n",
       "      <th>2019</th>\n",
       "      <th>Q1</th>\n",
       "      <td>137.056577</td>\n",
       "    </tr>\n",
       "    <tr>\n",
       "      <th>...</th>\n",
       "      <th>...</th>\n",
       "      <th>...</th>\n",
       "      <td>...</td>\n",
       "    </tr>\n",
       "    <tr>\n",
       "      <th rowspan=\"5\" valign=\"top\">ｅＢＡＳＥ</th>\n",
       "      <th>2019</th>\n",
       "      <th>Q4</th>\n",
       "      <td>31.609783</td>\n",
       "    </tr>\n",
       "    <tr>\n",
       "      <th rowspan=\"4\" valign=\"top\">2020</th>\n",
       "      <th>Q1</th>\n",
       "      <td>-8.705827</td>\n",
       "    </tr>\n",
       "    <tr>\n",
       "      <th>Q2</th>\n",
       "      <td>-12.323521</td>\n",
       "    </tr>\n",
       "    <tr>\n",
       "      <th>Q3</th>\n",
       "      <td>14.509884</td>\n",
       "    </tr>\n",
       "    <tr>\n",
       "      <th>Q4</th>\n",
       "      <td>8.147153</td>\n",
       "    </tr>\n",
       "  </tbody>\n",
       "</table>\n",
       "<p>12036 rows × 1 columns</p>\n",
       "</div>"
      ],
      "text/plain": [
       "                y_hat_mlm4\n",
       "企業名   会計年度 四半期            \n",
       "あらた   2018 Q1   263.859095\n",
       "           Q2   186.013135\n",
       "           Q3   -90.797436\n",
       "           Q4    43.663635\n",
       "      2019 Q1   137.056577\n",
       "...                    ...\n",
       "ｅＢＡＳＥ 2019 Q4    31.609783\n",
       "      2020 Q1    -8.705827\n",
       "           Q2   -12.323521\n",
       "           Q3    14.509884\n",
       "           Q4     8.147153\n",
       "\n",
       "[12036 rows x 1 columns]"
      ]
     },
     "execution_count": 34,
     "metadata": {},
     "output_type": "execute_result"
    }
   ],
   "source": [
    "y_hat = pd.read_csv(\"./y_hat_mlm3.csv\", index_col=[0, 1, 2])\n",
    "y_hat"
   ]
  },
  {
   "cell_type": "code",
   "execution_count": null,
   "metadata": {},
   "outputs": [],
   "source": []
  },
  {
   "cell_type": "code",
   "execution_count": null,
   "metadata": {},
   "outputs": [],
   "source": []
  }
 ],
 "metadata": {
  "interpreter": {
   "hash": "767d51c1340bd893661ea55ea3124f6de3c7a262a8b4abca0554b478b1e2ff90"
  },
  "kernelspec": {
   "display_name": "Python 3.8.10 64-bit",
   "language": "python",
   "name": "python3"
  },
  "language_info": {
   "codemirror_mode": {
    "name": "ipython",
    "version": 3
   },
   "file_extension": ".py",
   "mimetype": "text/x-python",
   "name": "python",
   "nbconvert_exporter": "python",
   "pygments_lexer": "ipython3",
   "version": "3.8.10"
  },
  "orig_nbformat": 4
 },
 "nbformat": 4,
 "nbformat_minor": 2
}
